{
 "cells": [
  {
   "cell_type": "markdown",
   "id": "56c6022d-eeef-488f-8d46-b64032001db1",
   "metadata": {},
   "source": [
    "### Importing The Required Libraries"
   ]
  },
  {
   "cell_type": "code",
   "execution_count": 1,
   "id": "07fd18a0-e335-4d02-9b11-908948cd99b4",
   "metadata": {},
   "outputs": [],
   "source": [
    "import pandas as pd\n",
    "import numpy as np\n",
    "import matplotlib.pyplot as plt\n",
    "import seaborn as sns\n",
    "from sklearn.metrics import mean_absolute_error, mean_squared_error\n",
    "from sklearn.model_selection import train_test_split\n",
    "from sklearn.preprocessing import LabelEncoder\n",
    "from sklearn.model_selection import KFold\n",
    "from sklearn.linear_model import LinearRegression\n",
    "from catboost import CatBoostRegressor\n",
    "fold = KFold(n_splits=10)\n",
    "pd.options.display.float_format = '{:.5f}'.format\n",
    "\n",
    "%matplotlib inline\n",
    "import warnings\n",
    "warnings.filterwarnings('ignore')"
   ]
  },
  {
   "cell_type": "code",
   "execution_count": 2,
   "id": "b47544a7-96c0-4749-bf93-0f9e7097a26d",
   "metadata": {},
   "outputs": [],
   "source": [
    "### Loading Of Datasets"
   ]
  },
  {
   "cell_type": "code",
   "execution_count": 3,
   "id": "ae48d1ca-e77a-4457-b12b-ae91a0e99383",
   "metadata": {},
   "outputs": [
    {
     "name": "stdout",
     "output_type": "stream",
     "text": [
      "Train dataset has shape of: (14000, 7)\n",
      "Test dataset has shape of: (6000, 6)\n"
     ]
    }
   ],
   "source": [
    "train = pd.read_csv(\"./data/Housing_dataset_train.csv\")\n",
    "print(f\"Train dataset has shape of: {train.shape}\")\n",
    "\n",
    "test = pd.read_csv(\"./data/Housing_dataset_test.csv\")\n",
    "print(f\"Test dataset has shape of: {test.shape}\")\n",
    "\n",
    "submission = pd.read_csv(\"./data/Sample_submission.csv\")"
   ]
  },
  {
   "cell_type": "code",
   "execution_count": 4,
   "id": "b610e71a-972d-441d-8497-d06349a2f9bf",
   "metadata": {},
   "outputs": [
    {
     "data": {
      "text/html": [
       "<div>\n",
       "<style scoped>\n",
       "    .dataframe tbody tr th:only-of-type {\n",
       "        vertical-align: middle;\n",
       "    }\n",
       "\n",
       "    .dataframe tbody tr th {\n",
       "        vertical-align: top;\n",
       "    }\n",
       "\n",
       "    .dataframe thead th {\n",
       "        text-align: right;\n",
       "    }\n",
       "</style>\n",
       "<table border=\"1\" class=\"dataframe\">\n",
       "  <thead>\n",
       "    <tr style=\"text-align: right;\">\n",
       "      <th></th>\n",
       "      <th>ID</th>\n",
       "      <th>loc</th>\n",
       "      <th>title</th>\n",
       "      <th>bedroom</th>\n",
       "      <th>bathroom</th>\n",
       "      <th>parking_space</th>\n",
       "      <th>price</th>\n",
       "    </tr>\n",
       "  </thead>\n",
       "  <tbody>\n",
       "    <tr>\n",
       "      <th>0</th>\n",
       "      <td>3583</td>\n",
       "      <td>Katsina</td>\n",
       "      <td>Semi-detached duplex</td>\n",
       "      <td>2.00000</td>\n",
       "      <td>2.00000</td>\n",
       "      <td>1.00000</td>\n",
       "      <td>1149999.56500</td>\n",
       "    </tr>\n",
       "    <tr>\n",
       "      <th>1</th>\n",
       "      <td>2748</td>\n",
       "      <td>Ondo</td>\n",
       "      <td>Apartment</td>\n",
       "      <td>NaN</td>\n",
       "      <td>2.00000</td>\n",
       "      <td>4.00000</td>\n",
       "      <td>1672416.68900</td>\n",
       "    </tr>\n",
       "    <tr>\n",
       "      <th>2</th>\n",
       "      <td>9261</td>\n",
       "      <td>Ekiti</td>\n",
       "      <td>NaN</td>\n",
       "      <td>7.00000</td>\n",
       "      <td>5.00000</td>\n",
       "      <td>NaN</td>\n",
       "      <td>3364799.81400</td>\n",
       "    </tr>\n",
       "    <tr>\n",
       "      <th>3</th>\n",
       "      <td>2224</td>\n",
       "      <td>Anambra</td>\n",
       "      <td>Detached duplex</td>\n",
       "      <td>5.00000</td>\n",
       "      <td>2.00000</td>\n",
       "      <td>4.00000</td>\n",
       "      <td>2410306.75600</td>\n",
       "    </tr>\n",
       "    <tr>\n",
       "      <th>4</th>\n",
       "      <td>10300</td>\n",
       "      <td>Kogi</td>\n",
       "      <td>Terrace duplex</td>\n",
       "      <td>NaN</td>\n",
       "      <td>5.00000</td>\n",
       "      <td>6.00000</td>\n",
       "      <td>2600700.89800</td>\n",
       "    </tr>\n",
       "  </tbody>\n",
       "</table>\n",
       "</div>"
      ],
      "text/plain": [
       "      ID      loc                 title  bedroom  bathroom  parking_space  \\\n",
       "0   3583  Katsina  Semi-detached duplex  2.00000   2.00000        1.00000   \n",
       "1   2748     Ondo             Apartment      NaN   2.00000        4.00000   \n",
       "2   9261    Ekiti                   NaN  7.00000   5.00000            NaN   \n",
       "3   2224  Anambra       Detached duplex  5.00000   2.00000        4.00000   \n",
       "4  10300     Kogi        Terrace duplex      NaN   5.00000        6.00000   \n",
       "\n",
       "          price  \n",
       "0 1149999.56500  \n",
       "1 1672416.68900  \n",
       "2 3364799.81400  \n",
       "3 2410306.75600  \n",
       "4 2600700.89800  "
      ]
     },
     "execution_count": 4,
     "metadata": {},
     "output_type": "execute_result"
    }
   ],
   "source": [
    "train.head()"
   ]
  },
  {
   "cell_type": "code",
   "execution_count": 5,
   "id": "f4368bcc-fd45-4637-b303-851786534d87",
   "metadata": {},
   "outputs": [
    {
     "data": {
      "text/html": [
       "<div>\n",
       "<style scoped>\n",
       "    .dataframe tbody tr th:only-of-type {\n",
       "        vertical-align: middle;\n",
       "    }\n",
       "\n",
       "    .dataframe tbody tr th {\n",
       "        vertical-align: top;\n",
       "    }\n",
       "\n",
       "    .dataframe thead th {\n",
       "        text-align: right;\n",
       "    }\n",
       "</style>\n",
       "<table border=\"1\" class=\"dataframe\">\n",
       "  <thead>\n",
       "    <tr style=\"text-align: right;\">\n",
       "      <th></th>\n",
       "      <th>ID</th>\n",
       "      <th>loc</th>\n",
       "      <th>title</th>\n",
       "      <th>bedroom</th>\n",
       "      <th>bathroom</th>\n",
       "      <th>parking_space</th>\n",
       "    </tr>\n",
       "  </thead>\n",
       "  <tbody>\n",
       "    <tr>\n",
       "      <th>0</th>\n",
       "      <td>845</td>\n",
       "      <td>Kano</td>\n",
       "      <td>Penthouse</td>\n",
       "      <td>4</td>\n",
       "      <td>1</td>\n",
       "      <td>2</td>\n",
       "    </tr>\n",
       "    <tr>\n",
       "      <th>1</th>\n",
       "      <td>1924</td>\n",
       "      <td>Adamawa</td>\n",
       "      <td>Apartment</td>\n",
       "      <td>2</td>\n",
       "      <td>2</td>\n",
       "      <td>4</td>\n",
       "    </tr>\n",
       "    <tr>\n",
       "      <th>2</th>\n",
       "      <td>10718</td>\n",
       "      <td>Adamawa</td>\n",
       "      <td>Bungalow</td>\n",
       "      <td>2</td>\n",
       "      <td>7</td>\n",
       "      <td>2</td>\n",
       "    </tr>\n",
       "    <tr>\n",
       "      <th>3</th>\n",
       "      <td>12076</td>\n",
       "      <td>Lagos</td>\n",
       "      <td>Mansion</td>\n",
       "      <td>9</td>\n",
       "      <td>5</td>\n",
       "      <td>2</td>\n",
       "    </tr>\n",
       "    <tr>\n",
       "      <th>4</th>\n",
       "      <td>12254</td>\n",
       "      <td>Gombe</td>\n",
       "      <td>Semi-detached duplex</td>\n",
       "      <td>5</td>\n",
       "      <td>6</td>\n",
       "      <td>1</td>\n",
       "    </tr>\n",
       "  </tbody>\n",
       "</table>\n",
       "</div>"
      ],
      "text/plain": [
       "      ID      loc                 title  bedroom  bathroom  parking_space\n",
       "0    845     Kano             Penthouse        4         1              2\n",
       "1   1924  Adamawa             Apartment        2         2              4\n",
       "2  10718  Adamawa              Bungalow        2         7              2\n",
       "3  12076    Lagos               Mansion        9         5              2\n",
       "4  12254    Gombe  Semi-detached duplex        5         6              1"
      ]
     },
     "execution_count": 5,
     "metadata": {},
     "output_type": "execute_result"
    }
   ],
   "source": [
    "test.head()"
   ]
  },
  {
   "cell_type": "code",
   "execution_count": 6,
   "id": "a78b1331-9915-4722-8a7b-a3b4574dcb84",
   "metadata": {},
   "outputs": [
    {
     "data": {
      "text/html": [
       "<div>\n",
       "<style scoped>\n",
       "    .dataframe tbody tr th:only-of-type {\n",
       "        vertical-align: middle;\n",
       "    }\n",
       "\n",
       "    .dataframe tbody tr th {\n",
       "        vertical-align: top;\n",
       "    }\n",
       "\n",
       "    .dataframe thead th {\n",
       "        text-align: right;\n",
       "    }\n",
       "</style>\n",
       "<table border=\"1\" class=\"dataframe\">\n",
       "  <thead>\n",
       "    <tr style=\"text-align: right;\">\n",
       "      <th></th>\n",
       "      <th>ID</th>\n",
       "    </tr>\n",
       "  </thead>\n",
       "  <tbody>\n",
       "    <tr>\n",
       "      <th>0</th>\n",
       "      <td>845</td>\n",
       "    </tr>\n",
       "    <tr>\n",
       "      <th>1</th>\n",
       "      <td>1924</td>\n",
       "    </tr>\n",
       "    <tr>\n",
       "      <th>2</th>\n",
       "      <td>10718</td>\n",
       "    </tr>\n",
       "    <tr>\n",
       "      <th>3</th>\n",
       "      <td>12076</td>\n",
       "    </tr>\n",
       "    <tr>\n",
       "      <th>4</th>\n",
       "      <td>12254</td>\n",
       "    </tr>\n",
       "  </tbody>\n",
       "</table>\n",
       "</div>"
      ],
      "text/plain": [
       "      ID\n",
       "0    845\n",
       "1   1924\n",
       "2  10718\n",
       "3  12076\n",
       "4  12254"
      ]
     },
     "execution_count": 6,
     "metadata": {},
     "output_type": "execute_result"
    }
   ],
   "source": [
    "submission.head()"
   ]
  },
  {
   "cell_type": "markdown",
   "id": "7d661978-76ac-4991-a687-d3809ab9b9c9",
   "metadata": {},
   "source": [
    "## Explorativre Data Analysis(EDA)"
   ]
  },
  {
   "cell_type": "code",
   "execution_count": 7,
   "id": "dcb81698-d39d-4077-bdbb-384f1bf1e2d2",
   "metadata": {},
   "outputs": [
    {
     "data": {
      "text/plain": [
       "ID                  0\n",
       "loc              1813\n",
       "title            1722\n",
       "bedroom          1799\n",
       "bathroom         1805\n",
       "parking_space    1811\n",
       "price               0\n",
       "dtype: int64"
      ]
     },
     "execution_count": 7,
     "metadata": {},
     "output_type": "execute_result"
    }
   ],
   "source": [
    "# Checking for missing features\n",
    "train.isnull().sum()"
   ]
  },
  {
   "cell_type": "code",
   "execution_count": 8,
   "id": "27e974b1-94fd-4b85-9e98-c8ccf49a1e1d",
   "metadata": {},
   "outputs": [
    {
     "data": {
      "text/plain": [
       "ID               0\n",
       "loc              0\n",
       "title            0\n",
       "bedroom          0\n",
       "bathroom         0\n",
       "parking_space    0\n",
       "dtype: int64"
      ]
     },
     "execution_count": 8,
     "metadata": {},
     "output_type": "execute_result"
    }
   ],
   "source": [
    "test.isnull().sum()"
   ]
  },
  {
   "cell_type": "markdown",
   "id": "ec10414f-f534-4354-a994-d732bfb1c7e0",
   "metadata": {},
   "source": [
    "### Data Visualization"
   ]
  },
  {
   "cell_type": "code",
   "execution_count": 9,
   "id": "7a056092-b06b-4f23-9b70-6b247b6e5c8d",
   "metadata": {},
   "outputs": [
    {
     "data": {
      "image/png": "[encoded data removed]",
      "text/plain": [
       "<Figure size 432x288 with 1 Axes>"
      ]
     },
     "metadata": {
      "needs_background": "light"
     },
     "output_type": "display_data"
    }
   ],
   "source": [
    "#Effect of Bedrooms Number on Price\n",
    "\n",
    "plt.scatter(train[\"price\"], train[\"bedroom\"])\n",
    "plt.xlabel(\"Price of Houses\")\n",
    "plt.ylabel(\"Number of Bedrooms\")\n",
    "plt.title(\"Bedroom Numbers VS House Price\");"
   ]
  },
  {
   "cell_type": "code",
   "execution_count": 10,
   "id": "5ac10ae2-d6c2-411f-9353-a958a9d30528",
   "metadata": {},
   "outputs": [
    {
     "data": {
      "image/png": "[encoded data removed]",
      "text/plain": [
       "<Figure size 432x288 with 1 Axes>"
      ]
     },
     "metadata": {
      "needs_background": "light"
     },
     "output_type": "display_data"
    }
   ],
   "source": [
    "#Effect of Bathrooms Number on Price\n",
    "\n",
    "plt.scatter(train[\"price\"], train[\"bathroom\"])\n",
    "plt.xlabel(\"Price of Houses\")\n",
    "plt.ylabel(\"Number of Bathrooms\")\n",
    "plt.title(\"Bathroom Numbers VS House Price\");"
   ]
  },
  {
   "cell_type": "code",
   "execution_count": 11,
   "id": "475e5444-b16d-425e-950f-eac696425ad6",
   "metadata": {},
   "outputs": [
    {
     "data": {
      "image/png": "[encoded data removed]",
      "text/plain": [
       "<Figure size 432x288 with 1 Axes>"
      ]
     },
     "metadata": {
      "needs_background": "light"
     },
     "output_type": "display_data"
    }
   ],
   "source": [
    "#Effect of Parking Space size on Price\n",
    "\n",
    "plt.scatter(train[\"price\"], train[\"parking_space\"])\n",
    "plt.xlabel(\"Price of Houses\")\n",
    "plt.ylabel(\"Parking Space\")\n",
    "plt.title(\"Parking Space Size VS House Price\");"
   ]
  },
  {
   "cell_type": "code",
   "execution_count": 12,
   "id": "e15f891e-8ad8-42e8-93ed-4d73238260dc",
   "metadata": {},
   "outputs": [
    {
     "data": {
      "image/png": "[encoded data removed]",
      "text/plain": [
       "<Figure size 1080x504 with 1 Axes>"
      ]
     },
     "metadata": {
      "needs_background": "light"
     },
     "output_type": "display_data"
    }
   ],
   "source": [
    "# Visualizing 'title column so see if it has effect on the target'\n",
    "\n",
    "plt.figure(figsize=(15,7))\n",
    "sns.barplot(x = train['title'],y = train['price'])\n",
    "plt.xticks(rotation = 'vertical')\n",
    "plt.show()"
   ]
  },
  {
   "cell_type": "code",
   "execution_count": 13,
   "id": "bf4c4dd3-6b9e-4ec6-ade5-ee0d6c193947",
   "metadata": {},
   "outputs": [
    {
     "data": {
      "image/png": "[encoded data removed]",
      "text/plain": [
       "<Figure size 1080x504 with 1 Axes>"
      ]
     },
     "metadata": {
      "needs_background": "light"
     },
     "output_type": "display_data"
    }
   ],
   "source": [
    "# Visualizing 'location column so see if it has effect on the target'\n",
    "\n",
    "plt.figure(figsize=(15,7))\n",
    "sns.barplot(x = train['loc'],y = train['price'])\n",
    "plt.xticks(rotation = 'vertical')\n",
    "plt.show()"
   ]
  },
  {
   "cell_type": "code",
   "execution_count": 14,
   "id": "7c362233-c0fa-4f24-939d-40e4fc36c625",
   "metadata": {},
   "outputs": [],
   "source": [
    "# Concatenate the Dataset to work on it together\n",
    "\n",
    "df = pd.concat([train, test]).reset_index(drop = True)\n",
    "assert (test.shape[0] + train.shape[0]) == df.shape[0]"
   ]
  },
  {
   "cell_type": "code",
   "execution_count": 15,
   "id": "9f4b9bb6-8910-4c72-b5d6-01c01f164c29",
   "metadata": {},
   "outputs": [
    {
     "data": {
      "text/plain": [
       "(20000, 6)"
      ]
     },
     "execution_count": 15,
     "metadata": {},
     "output_type": "execute_result"
    }
   ],
   "source": [
    "#Id is just an identity number to the houses , so it'dopped.\n",
    "\n",
    "df.drop(\"ID\", axis=1, inplace=True)\n",
    "\n",
    "df.shape"
   ]
  },
  {
   "cell_type": "code",
   "execution_count": 16,
   "id": "29400e23-042a-4a09-be2e-a5868c19850d",
   "metadata": {},
   "outputs": [
    {
     "data": {
      "text/plain": [
       "loc               object\n",
       "title             object\n",
       "bedroom          float64\n",
       "bathroom         float64\n",
       "parking_space    float64\n",
       "price            float64\n",
       "dtype: object"
      ]
     },
     "execution_count": 16,
     "metadata": {},
     "output_type": "execute_result"
    }
   ],
   "source": [
    "#Checking the data types\n",
    "\n",
    "df.dtypes"
   ]
  },
  {
   "cell_type": "markdown",
   "id": "abdef061-43ef-4eeb-b094-6a91c0121f84",
   "metadata": {},
   "source": [
    "### Label Encoding"
   ]
  },
  {
   "cell_type": "code",
   "execution_count": 17,
   "id": "4e7debe9-ca85-4746-b94b-8f2eebf1a1f9",
   "metadata": {},
   "outputs": [],
   "source": [
    "features = [feat for feat in list(df) if feat != 'price' ]\n",
    "cat_feat = np.where(df[features].dtypes == object)[0]\n",
    "to_encode = [val for index, val in enumerate(features) if index in cat_feat]\n",
    "\n",
    "df[to_encode] = df[to_encode].apply(LabelEncoder().fit_transform)"
   ]
  },
  {
   "cell_type": "markdown",
   "id": "fe197dda-7322-498c-afcf-d2ad7eacc87e",
   "metadata": {},
   "source": [
    "##### Dataset Separation"
   ]
  },
  {
   "cell_type": "code",
   "execution_count": 18,
   "id": "bdd998d5-da93-4e7c-8938-024423c6898f",
   "metadata": {},
   "outputs": [],
   "source": [
    "new_test = df[train.shape[0]:].reset_index(drop = True)\n",
    "new_train = df[:train.shape[0]]"
   ]
  },
  {
   "cell_type": "markdown",
   "id": "ab22b9d7-a234-447e-9229-2af70e1d7ada",
   "metadata": {},
   "source": [
    "### Data Splitting Feature and Target"
   ]
  },
  {
   "cell_type": "code",
   "execution_count": 19,
   "id": "fc69605d-3d54-4383-ab51-46181d3392d6",
   "metadata": {},
   "outputs": [],
   "source": [
    "X = new_train.drop(\"price\", axis = 1)\n",
    "y = new_train['price']"
   ]
  },
  {
   "cell_type": "markdown",
   "id": "186a09a4-d395-4a78-b3ce-927d6264bbcf",
   "metadata": {},
   "source": [
    "##### Create a function to build the model and evaluate "
   ]
  },
  {
   "cell_type": "code",
   "execution_count": 20,
   "id": "5ed9455e-5e90-4c99-9852-1fb2c99fa604",
   "metadata": {},
   "outputs": [],
   "source": [
    "def modelling_tree(algorithm,yy,X, test_df):\n",
    "    cv_score=[]\n",
    "    test_pred=[]\n",
    "    \n",
    "    for train_index, test_index in fold.split(X,pd.Series(yy)):\n",
    "        \n",
    "        X_trainx, X_val = X.iloc[train_index], X.iloc[test_index]\n",
    "        y_trainx, y_val = pd.Series(yy).iloc[train_index], pd.Series(yy).iloc[test_index]\n",
    "\n",
    "        algorithm.fit(X_trainx,y_trainx)\n",
    "        \n",
    "        val_preds=algorithm.predict(X_val)\n",
    "        cv_score.append(np.sqrt(mean_squared_error(y_val, val_preds)))\n",
    "\n",
    "        test_p = algorithm.predict(test_df)\n",
    "        test_pred.append(test_p)\n",
    "        \n",
    "    print(f'Validation RMSE Score{np.mean(cv_score)}')\n",
    "\n",
    "    return np.mean(test_pred, axis = 0)"
   ]
  },
  {
   "cell_type": "code",
   "execution_count": 21,
   "id": "13f0687f-9393-4442-9714-e1a2d57e2d6a",
   "metadata": {},
   "outputs": [
    {
     "name": "stdout",
     "output_type": "stream",
     "text": [
      "Validation RMSE Score540391.8684952522\n"
     ]
    }
   ],
   "source": [
    "cat_pred = modelling_tree(algorithm=CatBoostRegressor(silent = True), yy = y , X = X , test_df=new_test[X.columns])"
   ]
  },
  {
   "cell_type": "code",
   "execution_count": null,
   "id": "ffbe3c9b",
   "metadata": {},
   "outputs": [],
   "source": [
    "##### Create a submission file\n",
    "\n",
    "# # Create a submission file\n",
    "sub_file = submission.copy()\n",
    "sub_file['price'] = cat_pred"
   ]
  },
  {
   "cell_type": "code",
   "execution_count": 23,
   "id": "6bb2994d-d233-4e24-a9d8-e656da1e199e",
   "metadata": {},
   "outputs": [],
   "source": [
    "# Write to csv file to submit to Zindi\n",
    "sub_file.to_csv(\"Finalrun1.csv\", index = False)"
   ]
  },
  {
   "cell_type": "code",
   "execution_count": 24,
   "id": "d29d6c63-4396-4096-93fe-cff11136f1d2",
   "metadata": {
    "scrolled": true
   },
   "outputs": [
    {
     "data": {
      "text/html": [
       "<div>\n",
       "<style scoped>\n",
       "    .dataframe tbody tr th:only-of-type {\n",
       "        vertical-align: middle;\n",
       "    }\n",
       "\n",
       "    .dataframe tbody tr th {\n",
       "        vertical-align: top;\n",
       "    }\n",
       "\n",
       "    .dataframe thead th {\n",
       "        text-align: right;\n",
       "    }\n",
       "</style>\n",
       "<table border=\"1\" class=\"dataframe\">\n",
       "  <thead>\n",
       "    <tr style=\"text-align: right;\">\n",
       "      <th></th>\n",
       "      <th>ID</th>\n",
       "      <th>price</th>\n",
       "    </tr>\n",
       "  </thead>\n",
       "  <tbody>\n",
       "    <tr>\n",
       "      <th>0</th>\n",
       "      <td>845</td>\n",
       "      <td>2300467.35241</td>\n",
       "    </tr>\n",
       "    <tr>\n",
       "      <th>1</th>\n",
       "      <td>1924</td>\n",
       "      <td>995553.26902</td>\n",
       "    </tr>\n",
       "    <tr>\n",
       "      <th>2</th>\n",
       "      <td>10718</td>\n",
       "      <td>1170337.45592</td>\n",
       "    </tr>\n",
       "    <tr>\n",
       "      <th>3</th>\n",
       "      <td>12076</td>\n",
       "      <td>8334190.69661</td>\n",
       "    </tr>\n",
       "    <tr>\n",
       "      <th>4</th>\n",
       "      <td>12254</td>\n",
       "      <td>1840634.46195</td>\n",
       "    </tr>\n",
       "  </tbody>\n",
       "</table>\n",
       "</div>"
      ],
      "text/plain": [
       "      ID         price\n",
       "0    845 2300467.35241\n",
       "1   1924  995553.26902\n",
       "2  10718 1170337.45592\n",
       "3  12076 8334190.69661\n",
       "4  12254 1840634.46195"
      ]
     },
     "execution_count": 24,
     "metadata": {},
     "output_type": "execute_result"
    }
   ],
   "source": [
    "sub_file.head()"
   ]
  },
  {
   "cell_type": "code",
   "execution_count": null,
   "id": "dff67b55-e4f4-4ba2-9677-6eb13c7da075",
   "metadata": {},
   "outputs": [],
   "source": []
  }
 ],
 "metadata": {
  "kernelspec": {
   "display_name": "Python 3 (ipykernel)",
   "language": "python",
   "name": "python3"
  },
  "language_info": {
   "codemirror_mode": {
    "name": "ipython",
    "version": 3
   },
   "file_extension": ".py",
   "mimetype": "text/x-python",
   "name": "python",
   "nbconvert_exporter": "python",
   "pygments_lexer": "ipython3",
   "version": "3.9.7"
  }
 },
 "nbformat": 4,
 "nbformat_minor": 5
}
